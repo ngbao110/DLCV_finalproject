{
 "cells": [
  {
   "cell_type": "code",
   "execution_count": 6,
   "metadata": {},
   "outputs": [],
   "source": [
    "\"\"\"Only run once to convert mp4 videos to frames.\"\"\"\n",
    "\n",
    "import cv2\n",
    "import os"
   ]
  },
  {
   "cell_type": "code",
   "execution_count": 7,
   "metadata": {},
   "outputs": [],
   "source": [
    "def extract_frames(dir, target_path):\n",
    "    for eachfile in os.listdir(dir):\n",
    "        video_name = eachfile.replace(\".mp4\", \"\")\n",
    "        video_path = os.path.join(dir, eachfile)\n",
    "        capture = cv2.VideoCapture(video_path)\n",
    "        frameNr = 0\n",
    "        while (True):\n",
    "            success, frame = capture.read()\n",
    "            if success:\n",
    "                image_name = target_path + str(video_name)+ \"_frame\" +str(frameNr)+'.jpg'\n",
    "                cv2.imwrite(image_name, frame)\n",
    "            else:\n",
    "                break\n",
    "            frameNr = frameNr+1\n",
    "    capture.release()"
   ]
  },
  {
   "cell_type": "code",
   "execution_count": null,
   "metadata": {},
   "outputs": [],
   "source": [
    "\n",
    "NV_train_path = \"Real_Life_Violence_Dataset/train_/NV_/\"\n",
    "V_train_path = \"Real_Life_Violence_Dataset/train_/V_/\"\n",
    "NV_test_path = \"Real_Life_Violence_Dataset/test_/NV_/\"\n",
    "V_test_path = \"Real_Life_Violence_Dataset/test_/V_/\"\n",
    "NV_val_path = \"Real_Life_Violence_Dataset/val_/NV_/\"\n",
    "V_val_path = \"Real_Life_Violence_Dataset/val_/V_/\"\n",
    "\n",
    "os.mkdir(NV_train_path)\n",
    "os.mkdir(V_train_path)\n",
    "os.mkdir(NV_test_path)\n",
    "os.mkdir(V_test_path)\n",
    "os.mkdir(NV_val_path)\n",
    "os.mkdir(V_val_path)"
   ]
  },
  {
   "cell_type": "code",
   "execution_count": null,
   "metadata": {},
   "outputs": [],
   "source": [
    "extract_frames(\"Real_Life_Violence_Dataset/train_/NV\", NV_train_path)\n",
    "extract_frames(\"Real_Life_Violence_Dataset/train_/V\", V_train_path)\n",
    "extract_frames(\"Real_Life_Violence_Dataset/test_/NV\", NV_test_path)\n",
    "extract_frames(\"Real_Life_Violence_Dataset/test_/V\", V_test_path)\n",
    "extract_frames(\"Real_Life_Violence_Dataset/val_/NV\", NV_val_path)\n",
    "extract_frames(\"Real_Life_Violence_Dataset/val_/V\", V_val_path)"
   ]
  }
 ],
 "metadata": {
  "kernelspec": {
   "display_name": "Python 3.10.4 64-bit",
   "language": "python",
   "name": "python3"
  },
  "language_info": {
   "codemirror_mode": {
    "name": "ipython",
    "version": 3
   },
   "file_extension": ".py",
   "mimetype": "text/x-python",
   "name": "python",
   "nbconvert_exporter": "python",
   "pygments_lexer": "ipython3",
   "version": "3.10.4 (tags/v3.10.4:9d38120, Mar 23 2022, 23:13:41) [MSC v.1929 64 bit (AMD64)]"
  },
  "orig_nbformat": 4,
  "vscode": {
   "interpreter": {
    "hash": "57e3ffd0aa5f522d043ae6935574d5ca5b6b7a6179bb5e22d076dcaf64259c80"
   }
  }
 },
 "nbformat": 4,
 "nbformat_minor": 2
}
